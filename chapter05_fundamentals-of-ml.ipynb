{
 "cells": [
  {
   "cell_type": "markdown",
   "metadata": {
    "colab_type": "text"
   },
   "source": [
    "This is a companion notebook for the book [Deep Learning with Python, Second Edition](https://www.manning.com/books/deep-learning-with-python-second-edition?a_aid=keras&a_bid=76564dff). For readability, it only contains runnable code blocks and section titles, and omits everything else in the book: text paragraphs, figures, and pseudocode.\n",
    "\n",
    "**If you want to be able to follow what's going on, I recommend reading the notebook side by side with your copy of the book.**\n",
    "\n",
    "This notebook was generated for TensorFlow 2.6."
   ]
  },
  {
   "cell_type": "markdown",
   "metadata": {
    "colab_type": "text"
   },
   "source": [
    "# Fundamentals of machine learning"
   ]
  },
  {
   "cell_type": "markdown",
   "metadata": {
    "colab_type": "text"
   },
   "source": [
    "## Generalization: The goal of machine learning"
   ]
  },
  {
   "cell_type": "markdown",
   "metadata": {
    "colab_type": "text"
   },
   "source": [
    "### Underfitting and overfitting"
   ]
  },
  {
   "cell_type": "markdown",
   "metadata": {
    "colab_type": "text"
   },
   "source": [
    "#### Noisy training data"
   ]
  },
  {
   "cell_type": "markdown",
   "metadata": {
    "colab_type": "text"
   },
   "source": [
    "#### Ambiguous features"
   ]
  },
  {
   "cell_type": "markdown",
   "metadata": {
    "colab_type": "text"
   },
   "source": [
    "#### Rare features and spurious correlations"
   ]
  },
  {
   "cell_type": "markdown",
   "metadata": {
    "colab_type": "text"
   },
   "source": [
    "**Adding white-noise channels or all-zeros channels to MNIST**"
   ]
  },
  {
   "cell_type": "code",
   "execution_count": 1,
   "metadata": {
    "colab_type": "code"
   },
   "outputs": [],
   "source": [
    "from tensorflow.keras.datasets import mnist\n",
    "import numpy as np\n",
    "\n",
    "(train_images, train_labels), _ = mnist.load_data()\n",
    "train_images = train_images.reshape((60000, 28 * 28))\n",
    "train_images = train_images.astype(\"float32\") / 255\n",
    "\n",
    "train_images_with_noise_channels = np.concatenate(\n",
    "    [train_images, np.random.random((len(train_images), 784))], axis=1)\n",
    "\n",
    "train_images_with_zeros_channels = np.concatenate(\n",
    "    [train_images, np.zeros((len(train_images), 784))], axis=1)"
   ]
  },
  {
   "cell_type": "markdown",
   "metadata": {
    "colab_type": "text"
   },
   "source": [
    "**Training the same model on MNIST data with noise channels or all-zero channels**"
   ]
  },
  {
   "cell_type": "code",
   "execution_count": 2,
   "metadata": {
    "colab_type": "code"
   },
   "outputs": [
    {
     "name": "stdout",
     "output_type": "stream",
     "text": [
      "Epoch 1/10\n",
      "375/375 [==============================] - 6s 13ms/step - loss: 0.6262 - accuracy: 0.8112 - val_loss: 0.3102 - val_accuracy: 0.9051\n",
      "Epoch 2/10\n",
      "375/375 [==============================] - 4s 12ms/step - loss: 0.2604 - accuracy: 0.9188 - val_loss: 0.1958 - val_accuracy: 0.9435\n",
      "Epoch 3/10\n",
      "375/375 [==============================] - 5s 12ms/step - loss: 0.1708 - accuracy: 0.9472 - val_loss: 0.1846 - val_accuracy: 0.9442\n",
      "Epoch 4/10\n",
      "375/375 [==============================] - 5s 13ms/step - loss: 0.1221 - accuracy: 0.9617 - val_loss: 0.1391 - val_accuracy: 0.9588\n",
      "Epoch 5/10\n",
      "375/375 [==============================] - 5s 12ms/step - loss: 0.0896 - accuracy: 0.9712 - val_loss: 0.1469 - val_accuracy: 0.9573\n",
      "Epoch 6/10\n",
      "375/375 [==============================] - 5s 12ms/step - loss: 0.0650 - accuracy: 0.9792 - val_loss: 0.1665 - val_accuracy: 0.9502\n",
      "Epoch 7/10\n",
      "375/375 [==============================] - 4s 12ms/step - loss: 0.0482 - accuracy: 0.9845 - val_loss: 0.1156 - val_accuracy: 0.9666\n",
      "Epoch 8/10\n",
      "375/375 [==============================] - 4s 12ms/step - loss: 0.0363 - accuracy: 0.9885 - val_loss: 0.1271 - val_accuracy: 0.9649\n",
      "Epoch 9/10\n",
      "375/375 [==============================] - 5s 12ms/step - loss: 0.0243 - accuracy: 0.9926 - val_loss: 0.1292 - val_accuracy: 0.9661\n",
      "Epoch 10/10\n",
      "375/375 [==============================] - 5s 12ms/step - loss: 0.0199 - accuracy: 0.9939 - val_loss: 0.1296 - val_accuracy: 0.9683\n",
      "Epoch 1/10\n",
      "375/375 [==============================] - 6s 16ms/step - loss: 0.2972 - accuracy: 0.9150 - val_loss: 0.1526 - val_accuracy: 0.9553\n",
      "Epoch 2/10\n",
      "375/375 [==============================] - 4s 11ms/step - loss: 0.1247 - accuracy: 0.9626 - val_loss: 0.1193 - val_accuracy: 0.9646\n",
      "Epoch 3/10\n",
      "375/375 [==============================] - 4s 11ms/step - loss: 0.0819 - accuracy: 0.9758 - val_loss: 0.0918 - val_accuracy: 0.9719\n",
      "Epoch 4/10\n",
      "375/375 [==============================] - 4s 11ms/step - loss: 0.0594 - accuracy: 0.9823 - val_loss: 0.0816 - val_accuracy: 0.9766\n",
      "Epoch 5/10\n",
      "375/375 [==============================] - 4s 12ms/step - loss: 0.0452 - accuracy: 0.9862 - val_loss: 0.0779 - val_accuracy: 0.9773\n",
      "Epoch 6/10\n",
      "375/375 [==============================] - 4s 11ms/step - loss: 0.0333 - accuracy: 0.9902 - val_loss: 0.0719 - val_accuracy: 0.9797\n",
      "Epoch 7/10\n",
      "375/375 [==============================] - 4s 12ms/step - loss: 0.0247 - accuracy: 0.9930 - val_loss: 0.0735 - val_accuracy: 0.9791\n",
      "Epoch 8/10\n",
      "375/375 [==============================] - 4s 12ms/step - loss: 0.0197 - accuracy: 0.9945 - val_loss: 0.0769 - val_accuracy: 0.9777\n",
      "Epoch 9/10\n",
      "375/375 [==============================] - 4s 11ms/step - loss: 0.0138 - accuracy: 0.9961 - val_loss: 0.0766 - val_accuracy: 0.9798\n",
      "Epoch 10/10\n",
      "375/375 [==============================] - 4s 12ms/step - loss: 0.0104 - accuracy: 0.9976 - val_loss: 0.0772 - val_accuracy: 0.9793\n"
     ]
    }
   ],
   "source": [
    "from tensorflow import keras\n",
    "from tensorflow.keras import layers\n",
    "\n",
    "def get_model():\n",
    "    model = keras.Sequential([\n",
    "        layers.Dense(512, activation=\"relu\"),\n",
    "        layers.Dense(10, activation=\"softmax\")\n",
    "    ])\n",
    "    model.compile(optimizer=\"rmsprop\",\n",
    "                  loss=\"sparse_categorical_crossentropy\",\n",
    "                  metrics=[\"accuracy\"])\n",
    "    return model\n",
    "\n",
    "model = get_model()\n",
    "history_noise = model.fit(\n",
    "    train_images_with_noise_channels, train_labels,\n",
    "    epochs=10,\n",
    "    batch_size=128,\n",
    "    validation_split=0.2)\n",
    "\n",
    "model = get_model()\n",
    "history_zeros = model.fit(\n",
    "    train_images_with_zeros_channels, train_labels,\n",
    "    epochs=10,\n",
    "    batch_size=128,\n",
    "    validation_split=0.2)"
   ]
  },
  {
   "cell_type": "markdown",
   "metadata": {
    "colab_type": "text"
   },
   "source": [
    "**Plotting a validation accuracy comparison**"
   ]
  },
  {
   "cell_type": "code",
   "execution_count": 3,
   "metadata": {
    "colab_type": "code"
   },
   "outputs": [
    {
     "data": {
      "text/plain": [
       "<matplotlib.legend.Legend at 0x29ebb3bf0d0>"
      ]
     },
     "execution_count": 3,
     "metadata": {},
     "output_type": "execute_result"
    },
    {
     "data": {
      "image/png": "[encoded data removed]",
      "text/plain": [
       "<Figure size 640x480 with 1 Axes>"
      ]
     },
     "metadata": {},
     "output_type": "display_data"
    }
   ],
   "source": [
    "import matplotlib.pyplot as plt\n",
    "val_acc_noise = history_noise.history[\"val_accuracy\"]\n",
    "val_acc_zeros = history_zeros.history[\"val_accuracy\"]\n",
    "epochs = range(1, 11)\n",
    "plt.plot(epochs, val_acc_noise, \"b-\",\n",
    "         label=\"Validation accuracy with noise channels\")\n",
    "plt.plot(epochs, val_acc_zeros, \"b--\",\n",
    "         label=\"Validation accuracy with zeros channels\")\n",
    "plt.title(\"Effect of noise channels on validation accuracy\")\n",
    "plt.xlabel(\"Epochs\")\n",
    "plt.ylabel(\"Accuracy\")\n",
    "plt.legend()"
   ]
  },
  {
   "cell_type": "markdown",
   "metadata": {
    "colab_type": "text"
   },
   "source": [
    "### The nature of generalization in deep learning"
   ]
  },
  {
   "cell_type": "markdown",
   "metadata": {
    "colab_type": "text"
   },
   "source": [
    "**Fitting a MNIST model with randomly shuffled labels**"
   ]
  },
  {
   "cell_type": "code",
   "execution_count": 4,
   "metadata": {
    "colab_type": "code"
   },
   "outputs": [
    {
     "name": "stdout",
     "output_type": "stream",
     "text": [
      "Epoch 1/100\n",
      "375/375 [==============================] - 4s 9ms/step - loss: 2.3164 - accuracy: 0.1037 - val_loss: 2.3064 - val_accuracy: 0.1093\n",
      "Epoch 2/100\n",
      "375/375 [==============================] - 3s 8ms/step - loss: 2.3000 - accuracy: 0.1171 - val_loss: 2.3100 - val_accuracy: 0.0998\n",
      "Epoch 3/100\n",
      "375/375 [==============================] - 3s 8ms/step - loss: 2.2918 - accuracy: 0.1276 - val_loss: 2.3191 - val_accuracy: 0.1010\n",
      "Epoch 4/100\n",
      "375/375 [==============================] - 3s 8ms/step - loss: 2.2796 - accuracy: 0.1397 - val_loss: 2.3220 - val_accuracy: 0.1053\n",
      "Epoch 5/100\n",
      "375/375 [==============================] - 3s 8ms/step - loss: 2.2641 - accuracy: 0.1514 - val_loss: 2.3349 - val_accuracy: 0.1043\n",
      "Epoch 6/100\n",
      "375/375 [==============================] - 3s 8ms/step - loss: 2.2446 - accuracy: 0.1626 - val_loss: 2.3423 - val_accuracy: 0.1020\n",
      "Epoch 7/100\n",
      "375/375 [==============================] - 3s 8ms/step - loss: 2.2220 - accuracy: 0.1807 - val_loss: 2.3687 - val_accuracy: 0.1076\n",
      "Epoch 8/100\n",
      "375/375 [==============================] - 3s 8ms/step - loss: 2.1957 - accuracy: 0.1961 - val_loss: 2.3800 - val_accuracy: 0.1069\n",
      "Epoch 9/100\n",
      "375/375 [==============================] - 3s 8ms/step - loss: 2.1657 - accuracy: 0.2134 - val_loss: 2.4036 - val_accuracy: 0.1058\n",
      "Epoch 10/100\n",
      "375/375 [==============================] - 3s 8ms/step - loss: 2.1336 - accuracy: 0.2272 - val_loss: 2.4153 - val_accuracy: 0.1023\n",
      "Epoch 11/100\n",
      "375/375 [==============================] - 3s 8ms/step - loss: 2.0999 - accuracy: 0.2473 - val_loss: 2.4452 - val_accuracy: 0.0993\n",
      "Epoch 12/100\n",
      "375/375 [==============================] - 3s 8ms/step - loss: 2.0645 - accuracy: 0.2601 - val_loss: 2.4688 - val_accuracy: 0.1091\n",
      "Epoch 13/100\n",
      "375/375 [==============================] - 3s 8ms/step - loss: 2.0270 - accuracy: 0.2797 - val_loss: 2.5040 - val_accuracy: 0.0974\n",
      "Epoch 14/100\n",
      "375/375 [==============================] - 3s 8ms/step - loss: 1.9869 - accuracy: 0.2959 - val_loss: 2.5339 - val_accuracy: 0.1019\n",
      "Epoch 15/100\n",
      "375/375 [==============================] - 3s 8ms/step - loss: 1.9499 - accuracy: 0.3118 - val_loss: 2.5606 - val_accuracy: 0.1027\n",
      "Epoch 16/100\n",
      "310/375 [=======================>......] - ETA: 0s - loss: 1.9067 - accuracy: 0.3311"
     ]
    },
    {
     "ename": "KeyboardInterrupt",
     "evalue": "",
     "output_type": "error",
     "traceback": [
      "\u001b[1;31m---------------------------------------------------------------------------\u001b[0m",
      "\u001b[1;31mKeyboardInterrupt\u001b[0m                         Traceback (most recent call last)",
      "Cell \u001b[1;32mIn[4], line 15\u001b[0m\n\u001b[0;32m      8\u001b[0m model \u001b[39m=\u001b[39m keras\u001b[39m.\u001b[39mSequential([\n\u001b[0;32m      9\u001b[0m     layers\u001b[39m.\u001b[39mDense(\u001b[39m512\u001b[39m, activation\u001b[39m=\u001b[39m\u001b[39m\"\u001b[39m\u001b[39mrelu\u001b[39m\u001b[39m\"\u001b[39m),\n\u001b[0;32m     10\u001b[0m     layers\u001b[39m.\u001b[39mDense(\u001b[39m10\u001b[39m, activation\u001b[39m=\u001b[39m\u001b[39m\"\u001b[39m\u001b[39msoftmax\u001b[39m\u001b[39m\"\u001b[39m)\n\u001b[0;32m     11\u001b[0m ])\n\u001b[0;32m     12\u001b[0m model\u001b[39m.\u001b[39mcompile(optimizer\u001b[39m=\u001b[39m\u001b[39m\"\u001b[39m\u001b[39mrmsprop\u001b[39m\u001b[39m\"\u001b[39m,\n\u001b[0;32m     13\u001b[0m               loss\u001b[39m=\u001b[39m\u001b[39m\"\u001b[39m\u001b[39msparse_categorical_crossentropy\u001b[39m\u001b[39m\"\u001b[39m,\n\u001b[0;32m     14\u001b[0m               metrics\u001b[39m=\u001b[39m[\u001b[39m\"\u001b[39m\u001b[39maccuracy\u001b[39m\u001b[39m\"\u001b[39m])\n\u001b[1;32m---> 15\u001b[0m model\u001b[39m.\u001b[39;49mfit(train_images, random_train_labels,\n\u001b[0;32m     16\u001b[0m           epochs\u001b[39m=\u001b[39;49m\u001b[39m100\u001b[39;49m,\n\u001b[0;32m     17\u001b[0m           batch_size\u001b[39m=\u001b[39;49m\u001b[39m128\u001b[39;49m,\n\u001b[0;32m     18\u001b[0m           validation_split\u001b[39m=\u001b[39;49m\u001b[39m0.2\u001b[39;49m)\n",
      "File \u001b[1;32m~\\AppData\\Roaming\\Python\\Python39\\site-packages\\keras\\utils\\traceback_utils.py:65\u001b[0m, in \u001b[0;36mfilter_traceback.<locals>.error_handler\u001b[1;34m(*args, **kwargs)\u001b[0m\n\u001b[0;32m     63\u001b[0m filtered_tb \u001b[39m=\u001b[39m \u001b[39mNone\u001b[39;00m\n\u001b[0;32m     64\u001b[0m \u001b[39mtry\u001b[39;00m:\n\u001b[1;32m---> 65\u001b[0m     \u001b[39mreturn\u001b[39;00m fn(\u001b[39m*\u001b[39margs, \u001b[39m*\u001b[39m\u001b[39m*\u001b[39mkwargs)\n\u001b[0;32m     66\u001b[0m \u001b[39mexcept\u001b[39;00m \u001b[39mException\u001b[39;00m \u001b[39mas\u001b[39;00m e:\n\u001b[0;32m     67\u001b[0m     filtered_tb \u001b[39m=\u001b[39m _process_traceback_frames(e\u001b[39m.\u001b[39m__traceback__)\n",
      "File \u001b[1;32m~\\AppData\\Roaming\\Python\\Python39\\site-packages\\keras\\engine\\training.py:1650\u001b[0m, in \u001b[0;36mModel.fit\u001b[1;34m(self, x, y, batch_size, epochs, verbose, callbacks, validation_split, validation_data, shuffle, class_weight, sample_weight, initial_epoch, steps_per_epoch, validation_steps, validation_batch_size, validation_freq, max_queue_size, workers, use_multiprocessing)\u001b[0m\n\u001b[0;32m   1642\u001b[0m \u001b[39mwith\u001b[39;00m tf\u001b[39m.\u001b[39mprofiler\u001b[39m.\u001b[39mexperimental\u001b[39m.\u001b[39mTrace(\n\u001b[0;32m   1643\u001b[0m     \u001b[39m\"\u001b[39m\u001b[39mtrain\u001b[39m\u001b[39m\"\u001b[39m,\n\u001b[0;32m   1644\u001b[0m     epoch_num\u001b[39m=\u001b[39mepoch,\n\u001b[1;32m   (...)\u001b[0m\n\u001b[0;32m   1647\u001b[0m     _r\u001b[39m=\u001b[39m\u001b[39m1\u001b[39m,\n\u001b[0;32m   1648\u001b[0m ):\n\u001b[0;32m   1649\u001b[0m     callbacks\u001b[39m.\u001b[39mon_train_batch_begin(step)\n\u001b[1;32m-> 1650\u001b[0m     tmp_logs \u001b[39m=\u001b[39m \u001b[39mself\u001b[39;49m\u001b[39m.\u001b[39;49mtrain_function(iterator)\n\u001b[0;32m   1651\u001b[0m     \u001b[39mif\u001b[39;00m data_handler\u001b[39m.\u001b[39mshould_sync:\n\u001b[0;32m   1652\u001b[0m         context\u001b[39m.\u001b[39masync_wait()\n",
      "File \u001b[1;32m~\\AppData\\Roaming\\Python\\Python39\\site-packages\\tensorflow\\python\\util\\traceback_utils.py:150\u001b[0m, in \u001b[0;36mfilter_traceback.<locals>.error_handler\u001b[1;34m(*args, **kwargs)\u001b[0m\n\u001b[0;32m    148\u001b[0m filtered_tb \u001b[39m=\u001b[39m \u001b[39mNone\u001b[39;00m\n\u001b[0;32m    149\u001b[0m \u001b[39mtry\u001b[39;00m:\n\u001b[1;32m--> 150\u001b[0m   \u001b[39mreturn\u001b[39;00m fn(\u001b[39m*\u001b[39margs, \u001b[39m*\u001b[39m\u001b[39m*\u001b[39mkwargs)\n\u001b[0;32m    151\u001b[0m \u001b[39mexcept\u001b[39;00m \u001b[39mException\u001b[39;00m \u001b[39mas\u001b[39;00m e:\n\u001b[0;32m    152\u001b[0m   filtered_tb \u001b[39m=\u001b[39m _process_traceback_frames(e\u001b[39m.\u001b[39m__traceback__)\n",
      "File \u001b[1;32m~\\AppData\\Roaming\\Python\\Python39\\site-packages\\tensorflow\\python\\eager\\polymorphic_function\\polymorphic_function.py:880\u001b[0m, in \u001b[0;36mFunction.__call__\u001b[1;34m(self, *args, **kwds)\u001b[0m\n\u001b[0;32m    877\u001b[0m compiler \u001b[39m=\u001b[39m \u001b[39m\"\u001b[39m\u001b[39mxla\u001b[39m\u001b[39m\"\u001b[39m \u001b[39mif\u001b[39;00m \u001b[39mself\u001b[39m\u001b[39m.\u001b[39m_jit_compile \u001b[39melse\u001b[39;00m \u001b[39m\"\u001b[39m\u001b[39mnonXla\u001b[39m\u001b[39m\"\u001b[39m\n\u001b[0;32m    879\u001b[0m \u001b[39mwith\u001b[39;00m OptionalXlaContext(\u001b[39mself\u001b[39m\u001b[39m.\u001b[39m_jit_compile):\n\u001b[1;32m--> 880\u001b[0m   result \u001b[39m=\u001b[39m \u001b[39mself\u001b[39m\u001b[39m.\u001b[39m_call(\u001b[39m*\u001b[39margs, \u001b[39m*\u001b[39m\u001b[39m*\u001b[39mkwds)\n\u001b[0;32m    882\u001b[0m new_tracing_count \u001b[39m=\u001b[39m \u001b[39mself\u001b[39m\u001b[39m.\u001b[39mexperimental_get_tracing_count()\n\u001b[0;32m    883\u001b[0m without_tracing \u001b[39m=\u001b[39m (tracing_count \u001b[39m==\u001b[39m new_tracing_count)\n",
      "File \u001b[1;32m~\\AppData\\Roaming\\Python\\Python39\\site-packages\\tensorflow\\python\\eager\\polymorphic_function\\polymorphic_function.py:912\u001b[0m, in \u001b[0;36mFunction._call\u001b[1;34m(self, *args, **kwds)\u001b[0m\n\u001b[0;32m    909\u001b[0m   \u001b[39mself\u001b[39m\u001b[39m.\u001b[39m_lock\u001b[39m.\u001b[39mrelease()\n\u001b[0;32m    910\u001b[0m   \u001b[39m# In this case we have created variables on the first call, so we run the\u001b[39;00m\n\u001b[0;32m    911\u001b[0m   \u001b[39m# defunned version which is guaranteed to never create variables.\u001b[39;00m\n\u001b[1;32m--> 912\u001b[0m   \u001b[39mreturn\u001b[39;00m \u001b[39mself\u001b[39m\u001b[39m.\u001b[39m_no_variable_creation_fn(\u001b[39m*\u001b[39margs, \u001b[39m*\u001b[39m\u001b[39m*\u001b[39mkwds)  \u001b[39m# pylint: disable=not-callable\u001b[39;00m\n\u001b[0;32m    913\u001b[0m \u001b[39melif\u001b[39;00m \u001b[39mself\u001b[39m\u001b[39m.\u001b[39m_variable_creation_fn \u001b[39mis\u001b[39;00m \u001b[39mnot\u001b[39;00m \u001b[39mNone\u001b[39;00m:\n\u001b[0;32m    914\u001b[0m   \u001b[39m# Release the lock early so that multiple threads can perform the call\u001b[39;00m\n\u001b[0;32m    915\u001b[0m   \u001b[39m# in parallel.\u001b[39;00m\n\u001b[0;32m    916\u001b[0m   \u001b[39mself\u001b[39m\u001b[39m.\u001b[39m_lock\u001b[39m.\u001b[39mrelease()\n",
      "File \u001b[1;32m~\\AppData\\Roaming\\Python\\Python39\\site-packages\\tensorflow\\python\\eager\\polymorphic_function\\tracing_compiler.py:134\u001b[0m, in \u001b[0;36mTracingCompiler.__call__\u001b[1;34m(self, *args, **kwargs)\u001b[0m\n\u001b[0;32m    131\u001b[0m \u001b[39mwith\u001b[39;00m \u001b[39mself\u001b[39m\u001b[39m.\u001b[39m_lock:\n\u001b[0;32m    132\u001b[0m   (concrete_function,\n\u001b[0;32m    133\u001b[0m    filtered_flat_args) \u001b[39m=\u001b[39m \u001b[39mself\u001b[39m\u001b[39m.\u001b[39m_maybe_define_function(args, kwargs)\n\u001b[1;32m--> 134\u001b[0m \u001b[39mreturn\u001b[39;00m concrete_function\u001b[39m.\u001b[39;49m_call_flat(\n\u001b[0;32m    135\u001b[0m     filtered_flat_args, captured_inputs\u001b[39m=\u001b[39;49mconcrete_function\u001b[39m.\u001b[39;49mcaptured_inputs)\n",
      "File \u001b[1;32m~\\AppData\\Roaming\\Python\\Python39\\site-packages\\tensorflow\\python\\eager\\polymorphic_function\\monomorphic_function.py:1745\u001b[0m, in \u001b[0;36mConcreteFunction._call_flat\u001b[1;34m(self, args, captured_inputs, cancellation_manager)\u001b[0m\n\u001b[0;32m   1741\u001b[0m possible_gradient_type \u001b[39m=\u001b[39m gradients_util\u001b[39m.\u001b[39mPossibleTapeGradientTypes(args)\n\u001b[0;32m   1742\u001b[0m \u001b[39mif\u001b[39;00m (possible_gradient_type \u001b[39m==\u001b[39m gradients_util\u001b[39m.\u001b[39mPOSSIBLE_GRADIENT_TYPES_NONE\n\u001b[0;32m   1743\u001b[0m     \u001b[39mand\u001b[39;00m executing_eagerly):\n\u001b[0;32m   1744\u001b[0m   \u001b[39m# No tape is watching; skip to running the function.\u001b[39;00m\n\u001b[1;32m-> 1745\u001b[0m   \u001b[39mreturn\u001b[39;00m \u001b[39mself\u001b[39m\u001b[39m.\u001b[39m_build_call_outputs(\u001b[39mself\u001b[39;49m\u001b[39m.\u001b[39;49m_inference_function\u001b[39m.\u001b[39;49mcall(\n\u001b[0;32m   1746\u001b[0m       ctx, args, cancellation_manager\u001b[39m=\u001b[39;49mcancellation_manager))\n\u001b[0;32m   1747\u001b[0m forward_backward \u001b[39m=\u001b[39m \u001b[39mself\u001b[39m\u001b[39m.\u001b[39m_select_forward_and_backward_functions(\n\u001b[0;32m   1748\u001b[0m     args,\n\u001b[0;32m   1749\u001b[0m     possible_gradient_type,\n\u001b[0;32m   1750\u001b[0m     executing_eagerly)\n\u001b[0;32m   1751\u001b[0m forward_function, args_with_tangents \u001b[39m=\u001b[39m forward_backward\u001b[39m.\u001b[39mforward()\n",
      "File \u001b[1;32m~\\AppData\\Roaming\\Python\\Python39\\site-packages\\tensorflow\\python\\eager\\polymorphic_function\\monomorphic_function.py:378\u001b[0m, in \u001b[0;36m_EagerDefinedFunction.call\u001b[1;34m(self, ctx, args, cancellation_manager)\u001b[0m\n\u001b[0;32m    376\u001b[0m \u001b[39mwith\u001b[39;00m _InterpolateFunctionError(\u001b[39mself\u001b[39m):\n\u001b[0;32m    377\u001b[0m   \u001b[39mif\u001b[39;00m cancellation_manager \u001b[39mis\u001b[39;00m \u001b[39mNone\u001b[39;00m:\n\u001b[1;32m--> 378\u001b[0m     outputs \u001b[39m=\u001b[39m execute\u001b[39m.\u001b[39;49mexecute(\n\u001b[0;32m    379\u001b[0m         \u001b[39mstr\u001b[39;49m(\u001b[39mself\u001b[39;49m\u001b[39m.\u001b[39;49msignature\u001b[39m.\u001b[39;49mname),\n\u001b[0;32m    380\u001b[0m         num_outputs\u001b[39m=\u001b[39;49m\u001b[39mself\u001b[39;49m\u001b[39m.\u001b[39;49m_num_outputs,\n\u001b[0;32m    381\u001b[0m         inputs\u001b[39m=\u001b[39;49margs,\n\u001b[0;32m    382\u001b[0m         attrs\u001b[39m=\u001b[39;49mattrs,\n\u001b[0;32m    383\u001b[0m         ctx\u001b[39m=\u001b[39;49mctx)\n\u001b[0;32m    384\u001b[0m   \u001b[39melse\u001b[39;00m:\n\u001b[0;32m    385\u001b[0m     outputs \u001b[39m=\u001b[39m execute\u001b[39m.\u001b[39mexecute_with_cancellation(\n\u001b[0;32m    386\u001b[0m         \u001b[39mstr\u001b[39m(\u001b[39mself\u001b[39m\u001b[39m.\u001b[39msignature\u001b[39m.\u001b[39mname),\n\u001b[0;32m    387\u001b[0m         num_outputs\u001b[39m=\u001b[39m\u001b[39mself\u001b[39m\u001b[39m.\u001b[39m_num_outputs,\n\u001b[1;32m   (...)\u001b[0m\n\u001b[0;32m    390\u001b[0m         ctx\u001b[39m=\u001b[39mctx,\n\u001b[0;32m    391\u001b[0m         cancellation_manager\u001b[39m=\u001b[39mcancellation_manager)\n",
      "File \u001b[1;32m~\\AppData\\Roaming\\Python\\Python39\\site-packages\\tensorflow\\python\\eager\\execute.py:52\u001b[0m, in \u001b[0;36mquick_execute\u001b[1;34m(op_name, num_outputs, inputs, attrs, ctx, name)\u001b[0m\n\u001b[0;32m     50\u001b[0m \u001b[39mtry\u001b[39;00m:\n\u001b[0;32m     51\u001b[0m   ctx\u001b[39m.\u001b[39mensure_initialized()\n\u001b[1;32m---> 52\u001b[0m   tensors \u001b[39m=\u001b[39m pywrap_tfe\u001b[39m.\u001b[39;49mTFE_Py_Execute(ctx\u001b[39m.\u001b[39;49m_handle, device_name, op_name,\n\u001b[0;32m     53\u001b[0m                                       inputs, attrs, num_outputs)\n\u001b[0;32m     54\u001b[0m \u001b[39mexcept\u001b[39;00m core\u001b[39m.\u001b[39m_NotOkStatusException \u001b[39mas\u001b[39;00m e:\n\u001b[0;32m     55\u001b[0m   \u001b[39mif\u001b[39;00m name \u001b[39mis\u001b[39;00m \u001b[39mnot\u001b[39;00m \u001b[39mNone\u001b[39;00m:\n",
      "\u001b[1;31mKeyboardInterrupt\u001b[0m: "
     ]
    }
   ],
   "source": [
    "(train_images, train_labels), _ = mnist.load_data()\n",
    "train_images = train_images.reshape((60000, 28 * 28))\n",
    "train_images = train_images.astype(\"float32\") / 255\n",
    "\n",
    "random_train_labels = train_labels[:]\n",
    "np.random.shuffle(random_train_labels)\n",
    "\n",
    "model = keras.Sequential([\n",
    "    layers.Dense(512, activation=\"relu\"),\n",
    "    layers.Dense(10, activation=\"softmax\")\n",
    "])\n",
    "model.compile(optimizer=\"rmsprop\",\n",
    "              loss=\"sparse_categorical_crossentropy\",\n",
    "              metrics=[\"accuracy\"])\n",
    "model.fit(train_images, random_train_labels,\n",
    "          epochs=100,\n",
    "          batch_size=128,\n",
    "          validation_split=0.2)"
   ]
  },
  {
   "cell_type": "markdown",
   "metadata": {
    "colab_type": "text"
   },
   "source": [
    "#### The manifold hypothesis"
   ]
  },
  {
   "cell_type": "markdown",
   "metadata": {
    "colab_type": "text"
   },
   "source": [
    "#### Interpolation as a source of generalization"
   ]
  },
  {
   "cell_type": "markdown",
   "metadata": {
    "colab_type": "text"
   },
   "source": [
    "#### Why deep learning works"
   ]
  },
  {
   "cell_type": "markdown",
   "metadata": {
    "colab_type": "text"
   },
   "source": [
    "#### Training data is paramount"
   ]
  },
  {
   "cell_type": "markdown",
   "metadata": {
    "colab_type": "text"
   },
   "source": [
    "## Evaluating machine-learning models"
   ]
  },
  {
   "cell_type": "markdown",
   "metadata": {
    "colab_type": "text"
   },
   "source": [
    "### Training, validation, and test sets"
   ]
  },
  {
   "cell_type": "markdown",
   "metadata": {
    "colab_type": "text"
   },
   "source": [
    "#### Simple hold-out validation"
   ]
  },
  {
   "cell_type": "markdown",
   "metadata": {
    "colab_type": "text"
   },
   "source": [
    "#### K-fold validation"
   ]
  },
  {
   "cell_type": "markdown",
   "metadata": {
    "colab_type": "text"
   },
   "source": [
    "#### Iterated K-fold validation with shuffling"
   ]
  },
  {
   "cell_type": "markdown",
   "metadata": {
    "colab_type": "text"
   },
   "source": [
    "### Beating a common-sense baseline"
   ]
  },
  {
   "cell_type": "markdown",
   "metadata": {
    "colab_type": "text"
   },
   "source": [
    "### Things to keep in mind about model evaluation"
   ]
  },
  {
   "cell_type": "markdown",
   "metadata": {
    "colab_type": "text"
   },
   "source": [
    "## Improving model fit"
   ]
  },
  {
   "cell_type": "markdown",
   "metadata": {
    "colab_type": "text"
   },
   "source": [
    "### Tuning key gradient descent parameters"
   ]
  },
  {
   "cell_type": "markdown",
   "metadata": {
    "colab_type": "text"
   },
   "source": [
    "**Training a MNIST model with an incorrectly high learning rate**"
   ]
  },
  {
   "cell_type": "code",
   "execution_count": 5,
   "metadata": {
    "colab_type": "code"
   },
   "outputs": [
    {
     "name": "stdout",
     "output_type": "stream",
     "text": [
      "Epoch 1/10\n",
      "375/375 [==============================] - 4s 9ms/step - loss: 489.6585 - accuracy: 0.2986 - val_loss: 2.3497 - val_accuracy: 0.1419\n",
      "Epoch 2/10\n",
      "375/375 [==============================] - 3s 9ms/step - loss: 2.9065 - accuracy: 0.1718 - val_loss: 2.2301 - val_accuracy: 0.1891\n",
      "Epoch 3/10\n",
      "375/375 [==============================] - 3s 9ms/step - loss: 2.4079 - accuracy: 0.1996 - val_loss: 2.1567 - val_accuracy: 0.1974\n",
      "Epoch 4/10\n",
      "375/375 [==============================] - 3s 8ms/step - loss: 2.4810 - accuracy: 0.2001 - val_loss: 2.1965 - val_accuracy: 0.2062\n",
      "Epoch 5/10\n",
      "375/375 [==============================] - 3s 8ms/step - loss: 2.4287 - accuracy: 0.2177 - val_loss: 2.2384 - val_accuracy: 0.1861\n",
      "Epoch 6/10\n",
      "375/375 [==============================] - 3s 9ms/step - loss: 2.3790 - accuracy: 0.2231 - val_loss: 2.2415 - val_accuracy: 0.2167\n",
      "Epoch 7/10\n",
      "375/375 [==============================] - 3s 8ms/step - loss: 2.3233 - accuracy: 0.2244 - val_loss: 2.1277 - val_accuracy: 0.2093\n",
      "Epoch 8/10\n",
      "375/375 [==============================] - 3s 9ms/step - loss: 2.3584 - accuracy: 0.2426 - val_loss: 2.1554 - val_accuracy: 0.2208\n",
      "Epoch 9/10\n",
      "375/375 [==============================] - 3s 9ms/step - loss: 2.1948 - accuracy: 0.2429 - val_loss: 2.1243 - val_accuracy: 0.2139\n",
      "Epoch 10/10\n",
      "375/375 [==============================] - 3s 9ms/step - loss: 2.2518 - accuracy: 0.2547 - val_loss: 2.6761 - val_accuracy: 0.2807\n"
     ]
    },
    {
     "data": {
      "text/plain": [
       "<keras.callbacks.History at 0x29eb6a4cee0>"
      ]
     },
     "execution_count": 5,
     "metadata": {},
     "output_type": "execute_result"
    }
   ],
   "source": [
    "(train_images, train_labels), _ = mnist.load_data()\n",
    "train_images = train_images.reshape((60000, 28 * 28))\n",
    "train_images = train_images.astype(\"float32\") / 255\n",
    "\n",
    "model = keras.Sequential([\n",
    "    layers.Dense(512, activation=\"relu\"),\n",
    "    layers.Dense(10, activation=\"softmax\")\n",
    "])\n",
    "model.compile(optimizer=keras.optimizers.RMSprop(1.),\n",
    "              loss=\"sparse_categorical_crossentropy\",\n",
    "              metrics=[\"accuracy\"])\n",
    "model.fit(train_images, train_labels,\n",
    "          epochs=10,\n",
    "          batch_size=128,\n",
    "          validation_split=0.2)"
   ]
  },
  {
   "cell_type": "markdown",
   "metadata": {
    "colab_type": "text"
   },
   "source": [
    "**The same model with a more appropriate learning rate**"
   ]
  },
  {
   "cell_type": "code",
   "execution_count": 6,
   "metadata": {
    "colab_type": "code"
   },
   "outputs": [
    {
     "name": "stdout",
     "output_type": "stream",
     "text": [
      "Epoch 1/10\n",
      "375/375 [==============================] - 4s 9ms/step - loss: 0.3182 - accuracy: 0.9154 - val_loss: 0.1302 - val_accuracy: 0.9628\n",
      "Epoch 2/10\n",
      "375/375 [==============================] - 3s 8ms/step - loss: 0.1268 - accuracy: 0.9650 - val_loss: 0.1603 - val_accuracy: 0.9629\n",
      "Epoch 3/10\n",
      "375/375 [==============================] - 3s 9ms/step - loss: 0.1036 - accuracy: 0.9730 - val_loss: 0.1301 - val_accuracy: 0.9679\n",
      "Epoch 4/10\n",
      "375/375 [==============================] - 3s 9ms/step - loss: 0.0808 - accuracy: 0.9783 - val_loss: 0.1525 - val_accuracy: 0.9663\n",
      "Epoch 5/10\n",
      "375/375 [==============================] - 3s 8ms/step - loss: 0.0677 - accuracy: 0.9827 - val_loss: 0.1678 - val_accuracy: 0.9708\n",
      "Epoch 6/10\n",
      "375/375 [==============================] - 3s 8ms/step - loss: 0.0632 - accuracy: 0.9850 - val_loss: 0.1948 - val_accuracy: 0.9689\n",
      "Epoch 7/10\n",
      "375/375 [==============================] - 3s 8ms/step - loss: 0.0537 - accuracy: 0.9869 - val_loss: 0.2304 - val_accuracy: 0.9671\n",
      "Epoch 8/10\n",
      "375/375 [==============================] - 3s 9ms/step - loss: 0.0432 - accuracy: 0.9894 - val_loss: 0.2011 - val_accuracy: 0.9733\n",
      "Epoch 9/10\n",
      "375/375 [==============================] - 3s 8ms/step - loss: 0.0422 - accuracy: 0.9900 - val_loss: 0.2030 - val_accuracy: 0.9730\n",
      "Epoch 10/10\n",
      "375/375 [==============================] - 3s 9ms/step - loss: 0.0453 - accuracy: 0.9905 - val_loss: 0.2303 - val_accuracy: 0.9742\n"
     ]
    },
    {
     "data": {
      "text/plain": [
       "<keras.callbacks.History at 0x29eb7478970>"
      ]
     },
     "execution_count": 6,
     "metadata": {},
     "output_type": "execute_result"
    }
   ],
   "source": [
    "model = keras.Sequential([\n",
    "    layers.Dense(512, activation=\"relu\"),\n",
    "    layers.Dense(10, activation=\"softmax\")\n",
    "])\n",
    "model.compile(optimizer=keras.optimizers.RMSprop(1e-2),\n",
    "              loss=\"sparse_categorical_crossentropy\",\n",
    "              metrics=[\"accuracy\"])\n",
    "model.fit(train_images, train_labels,\n",
    "          epochs=10,\n",
    "          batch_size=128,\n",
    "          validation_split=0.2)"
   ]
  },
  {
   "cell_type": "markdown",
   "metadata": {
    "colab_type": "text"
   },
   "source": [
    "### Leveraging better architecture priors"
   ]
  },
  {
   "cell_type": "markdown",
   "metadata": {
    "colab_type": "text"
   },
   "source": [
    "### Increasing model capacity"
   ]
  },
  {
   "cell_type": "markdown",
   "metadata": {
    "colab_type": "text"
   },
   "source": [
    "**A simple logistic regression on MNIST**"
   ]
  },
  {
   "cell_type": "code",
   "execution_count": 7,
   "metadata": {
    "colab_type": "code"
   },
   "outputs": [
    {
     "name": "stdout",
     "output_type": "stream",
     "text": [
      "Epoch 1/20\n",
      "375/375 [==============================] - 1s 3ms/step - loss: 0.6772 - accuracy: 0.8354 - val_loss: 0.3594 - val_accuracy: 0.9028\n",
      "Epoch 2/20\n",
      "375/375 [==============================] - 1s 2ms/step - loss: 0.3527 - accuracy: 0.9031 - val_loss: 0.3097 - val_accuracy: 0.9156\n",
      "Epoch 3/20\n",
      "375/375 [==============================] - 1s 2ms/step - loss: 0.3177 - accuracy: 0.9118 - val_loss: 0.2940 - val_accuracy: 0.9205\n",
      "Epoch 4/20\n",
      "375/375 [==============================] - 1s 2ms/step - loss: 0.3018 - accuracy: 0.9160 - val_loss: 0.2855 - val_accuracy: 0.9212\n",
      "Epoch 5/20\n",
      "375/375 [==============================] - 1s 2ms/step - loss: 0.2923 - accuracy: 0.9185 - val_loss: 0.2784 - val_accuracy: 0.9248\n",
      "Epoch 6/20\n",
      "375/375 [==============================] - 1s 2ms/step - loss: 0.2856 - accuracy: 0.9196 - val_loss: 0.2756 - val_accuracy: 0.9241\n",
      "Epoch 7/20\n",
      "375/375 [==============================] - 1s 2ms/step - loss: 0.2806 - accuracy: 0.9215 - val_loss: 0.2741 - val_accuracy: 0.9235\n",
      "Epoch 8/20\n",
      "375/375 [==============================] - 1s 3ms/step - loss: 0.2766 - accuracy: 0.9236 - val_loss: 0.2702 - val_accuracy: 0.9273\n",
      "Epoch 9/20\n",
      "375/375 [==============================] - 1s 2ms/step - loss: 0.2737 - accuracy: 0.9239 - val_loss: 0.2673 - val_accuracy: 0.9287\n",
      "Epoch 10/20\n",
      "375/375 [==============================] - 1s 2ms/step - loss: 0.2708 - accuracy: 0.9246 - val_loss: 0.2666 - val_accuracy: 0.9282\n",
      "Epoch 11/20\n",
      "375/375 [==============================] - 1s 2ms/step - loss: 0.2685 - accuracy: 0.9253 - val_loss: 0.2661 - val_accuracy: 0.9286\n",
      "Epoch 12/20\n",
      "375/375 [==============================] - 1s 2ms/step - loss: 0.2663 - accuracy: 0.9267 - val_loss: 0.2660 - val_accuracy: 0.9286\n",
      "Epoch 13/20\n",
      "375/375 [==============================] - 1s 3ms/step - loss: 0.2651 - accuracy: 0.9269 - val_loss: 0.2638 - val_accuracy: 0.9287\n",
      "Epoch 14/20\n",
      "375/375 [==============================] - 1s 2ms/step - loss: 0.2631 - accuracy: 0.9274 - val_loss: 0.2644 - val_accuracy: 0.9290\n",
      "Epoch 15/20\n",
      "375/375 [==============================] - 1s 3ms/step - loss: 0.2616 - accuracy: 0.9284 - val_loss: 0.2639 - val_accuracy: 0.9299\n",
      "Epoch 16/20\n",
      "375/375 [==============================] - 1s 2ms/step - loss: 0.2604 - accuracy: 0.9285 - val_loss: 0.2629 - val_accuracy: 0.9293\n",
      "Epoch 17/20\n",
      "375/375 [==============================] - 1s 3ms/step - loss: 0.2591 - accuracy: 0.9284 - val_loss: 0.2641 - val_accuracy: 0.9289\n",
      "Epoch 18/20\n",
      "375/375 [==============================] - 1s 2ms/step - loss: 0.2582 - accuracy: 0.9290 - val_loss: 0.2628 - val_accuracy: 0.9312\n",
      "Epoch 19/20\n",
      "375/375 [==============================] - 1s 3ms/step - loss: 0.2571 - accuracy: 0.9290 - val_loss: 0.2638 - val_accuracy: 0.9294\n",
      "Epoch 20/20\n",
      "375/375 [==============================] - 1s 2ms/step - loss: 0.2562 - accuracy: 0.9296 - val_loss: 0.2625 - val_accuracy: 0.9299\n"
     ]
    }
   ],
   "source": [
    "model = keras.Sequential([layers.Dense(10, activation=\"softmax\")])\n",
    "model.compile(optimizer=\"rmsprop\",\n",
    "              loss=\"sparse_categorical_crossentropy\",\n",
    "              metrics=[\"accuracy\"])\n",
    "history_small_model = model.fit(\n",
    "    train_images, train_labels,\n",
    "    epochs=20,\n",
    "    batch_size=128,\n",
    "    validation_split=0.2)"
   ]
  },
  {
   "cell_type": "code",
   "execution_count": 8,
   "metadata": {
    "colab_type": "code"
   },
   "outputs": [
    {
     "data": {
      "text/plain": [
       "<matplotlib.legend.Legend at 0x29eb7478af0>"
      ]
     },
     "execution_count": 8,
     "metadata": {},
     "output_type": "execute_result"
    },
    {
     "data": {
      "image/png": "[encoded data removed]",
      "text/plain": [
       "<Figure size 640x480 with 1 Axes>"
      ]
     },
     "metadata": {},
     "output_type": "display_data"
    }
   ],
   "source": [
    "import matplotlib.pyplot as plt\n",
    "val_loss = history_small_model.history[\"val_loss\"]\n",
    "epochs = range(1, 21)\n",
    "plt.plot(epochs, val_loss, \"b--\",\n",
    "         label=\"Validation loss\")\n",
    "plt.title(\"Effect of insufficient model capacity on validation loss\")\n",
    "plt.xlabel(\"Epochs\")\n",
    "plt.ylabel(\"Loss\")\n",
    "plt.legend()"
   ]
  },
  {
   "cell_type": "code",
   "execution_count": 9,
   "metadata": {
    "colab_type": "code"
   },
   "outputs": [
    {
     "name": "stdout",
     "output_type": "stream",
     "text": [
      "Epoch 1/20\n",
      "375/375 [==============================] - 2s 4ms/step - loss: 0.3578 - accuracy: 0.8988 - val_loss: 0.1894 - val_accuracy: 0.9450\n",
      "Epoch 2/20\n",
      "375/375 [==============================] - 1s 4ms/step - loss: 0.1549 - accuracy: 0.9535 - val_loss: 0.1448 - val_accuracy: 0.9579\n",
      "Epoch 3/20\n",
      "375/375 [==============================] - 1s 4ms/step - loss: 0.1079 - accuracy: 0.9686 - val_loss: 0.1064 - val_accuracy: 0.9697\n",
      "Epoch 4/20\n",
      "375/375 [==============================] - 1s 3ms/step - loss: 0.0810 - accuracy: 0.9758 - val_loss: 0.0948 - val_accuracy: 0.9712\n",
      "Epoch 5/20\n",
      "375/375 [==============================] - 1s 3ms/step - loss: 0.0650 - accuracy: 0.9805 - val_loss: 0.1031 - val_accuracy: 0.9675\n",
      "Epoch 6/20\n",
      "375/375 [==============================] - 1s 3ms/step - loss: 0.0523 - accuracy: 0.9842 - val_loss: 0.0997 - val_accuracy: 0.9719\n",
      "Epoch 7/20\n",
      "375/375 [==============================] - 1s 3ms/step - loss: 0.0438 - accuracy: 0.9869 - val_loss: 0.0908 - val_accuracy: 0.9751\n",
      "Epoch 8/20\n",
      "375/375 [==============================] - 1s 3ms/step - loss: 0.0366 - accuracy: 0.9891 - val_loss: 0.0971 - val_accuracy: 0.9741\n",
      "Epoch 9/20\n",
      "375/375 [==============================] - 1s 4ms/step - loss: 0.0304 - accuracy: 0.9908 - val_loss: 0.1010 - val_accuracy: 0.9734\n",
      "Epoch 10/20\n",
      "375/375 [==============================] - 1s 3ms/step - loss: 0.0265 - accuracy: 0.9916 - val_loss: 0.0995 - val_accuracy: 0.9754\n",
      "Epoch 11/20\n",
      "375/375 [==============================] - 1s 4ms/step - loss: 0.0220 - accuracy: 0.9930 - val_loss: 0.1031 - val_accuracy: 0.9755\n",
      "Epoch 12/20\n",
      "375/375 [==============================] - 1s 3ms/step - loss: 0.0185 - accuracy: 0.9943 - val_loss: 0.0971 - val_accuracy: 0.9770\n",
      "Epoch 13/20\n",
      "375/375 [==============================] - 1s 3ms/step - loss: 0.0157 - accuracy: 0.9953 - val_loss: 0.1037 - val_accuracy: 0.9756\n",
      "Epoch 14/20\n",
      "375/375 [==============================] - 1s 4ms/step - loss: 0.0134 - accuracy: 0.9953 - val_loss: 0.1075 - val_accuracy: 0.9762\n",
      "Epoch 15/20\n",
      "375/375 [==============================] - 2s 5ms/step - loss: 0.0110 - accuracy: 0.9967 - val_loss: 0.1179 - val_accuracy: 0.9750\n",
      "Epoch 16/20\n",
      "375/375 [==============================] - 2s 5ms/step - loss: 0.0094 - accuracy: 0.9972 - val_loss: 0.1181 - val_accuracy: 0.9753\n",
      "Epoch 17/20\n",
      "375/375 [==============================] - 2s 5ms/step - loss: 0.0076 - accuracy: 0.9976 - val_loss: 0.1185 - val_accuracy: 0.9770\n",
      "Epoch 18/20\n",
      "375/375 [==============================] - 2s 4ms/step - loss: 0.0067 - accuracy: 0.9977 - val_loss: 0.1270 - val_accuracy: 0.9762\n",
      "Epoch 19/20\n",
      "375/375 [==============================] - 2s 5ms/step - loss: 0.0060 - accuracy: 0.9983 - val_loss: 0.1317 - val_accuracy: 0.9757\n",
      "Epoch 20/20\n",
      "375/375 [==============================] - 1s 4ms/step - loss: 0.0052 - accuracy: 0.9984 - val_loss: 0.1330 - val_accuracy: 0.9764\n"
     ]
    }
   ],
   "source": [
    "model = keras.Sequential([\n",
    "    layers.Dense(96, activation=\"relu\"),\n",
    "    layers.Dense(96, activation=\"relu\"),\n",
    "    layers.Dense(10, activation=\"softmax\"),\n",
    "])\n",
    "model.compile(optimizer=\"rmsprop\",\n",
    "              loss=\"sparse_categorical_crossentropy\",\n",
    "              metrics=[\"accuracy\"])\n",
    "history_large_model = model.fit(\n",
    "    train_images, train_labels,\n",
    "    epochs=20,\n",
    "    batch_size=128,\n",
    "    validation_split=0.2)"
   ]
  },
  {
   "cell_type": "markdown",
   "metadata": {
    "colab_type": "text"
   },
   "source": [
    "## Improving generalization"
   ]
  },
  {
   "cell_type": "markdown",
   "metadata": {
    "colab_type": "text"
   },
   "source": [
    "### Dataset curation"
   ]
  },
  {
   "cell_type": "markdown",
   "metadata": {
    "colab_type": "text"
   },
   "source": [
    "### Feature engineering"
   ]
  },
  {
   "cell_type": "markdown",
   "metadata": {
    "colab_type": "text"
   },
   "source": [
    "### Using early stopping"
   ]
  },
  {
   "cell_type": "markdown",
   "metadata": {
    "colab_type": "text"
   },
   "source": [
    "### Regularizing your model"
   ]
  },
  {
   "cell_type": "markdown",
   "metadata": {
    "colab_type": "text"
   },
   "source": [
    "#### Reducing the network's size"
   ]
  },
  {
   "cell_type": "markdown",
   "metadata": {
    "colab_type": "text"
   },
   "source": [
    "**Original model**"
   ]
  },
  {
   "cell_type": "code",
   "execution_count": 10,
   "metadata": {
    "colab_type": "code"
   },
   "outputs": [
    {
     "name": "stdout",
     "output_type": "stream",
     "text": [
      "Epoch 1/20\n",
      "30/30 [==============================] - 2s 34ms/step - loss: 0.5329 - accuracy: 0.7880 - val_loss: 0.4140 - val_accuracy: 0.8644\n",
      "Epoch 2/20\n",
      "30/30 [==============================] - 1s 17ms/step - loss: 0.3370 - accuracy: 0.8884 - val_loss: 0.3253 - val_accuracy: 0.8800\n",
      "Epoch 3/20\n",
      "30/30 [==============================] - 1s 18ms/step - loss: 0.2534 - accuracy: 0.9152 - val_loss: 0.2971 - val_accuracy: 0.8832\n",
      "Epoch 4/20\n",
      "30/30 [==============================] - 1s 19ms/step - loss: 0.2048 - accuracy: 0.9313 - val_loss: 0.2759 - val_accuracy: 0.8900\n",
      "Epoch 5/20\n",
      "30/30 [==============================] - 0s 16ms/step - loss: 0.1681 - accuracy: 0.9445 - val_loss: 0.2862 - val_accuracy: 0.8832\n",
      "Epoch 6/20\n",
      "30/30 [==============================] - 0s 16ms/step - loss: 0.1458 - accuracy: 0.9529 - val_loss: 0.2849 - val_accuracy: 0.8863\n",
      "Epoch 7/20\n",
      "30/30 [==============================] - 0s 16ms/step - loss: 0.1241 - accuracy: 0.9619 - val_loss: 0.2984 - val_accuracy: 0.8860\n",
      "Epoch 8/20\n",
      "30/30 [==============================] - 0s 16ms/step - loss: 0.1085 - accuracy: 0.9677 - val_loss: 0.3057 - val_accuracy: 0.8841\n",
      "Epoch 9/20\n",
      "30/30 [==============================] - 0s 16ms/step - loss: 0.0914 - accuracy: 0.9753 - val_loss: 0.3230 - val_accuracy: 0.8811\n",
      "Epoch 10/20\n",
      "30/30 [==============================] - 0s 16ms/step - loss: 0.0806 - accuracy: 0.9774 - val_loss: 0.3392 - val_accuracy: 0.8816\n",
      "Epoch 11/20\n",
      "30/30 [==============================] - 1s 21ms/step - loss: 0.0686 - accuracy: 0.9823 - val_loss: 0.3702 - val_accuracy: 0.8770\n",
      "Epoch 12/20\n",
      "30/30 [==============================] - 1s 18ms/step - loss: 0.0591 - accuracy: 0.9862 - val_loss: 0.3791 - val_accuracy: 0.8790\n",
      "Epoch 13/20\n",
      "30/30 [==============================] - 1s 19ms/step - loss: 0.0511 - accuracy: 0.9875 - val_loss: 0.3988 - val_accuracy: 0.8770\n",
      "Epoch 14/20\n",
      "30/30 [==============================] - 0s 15ms/step - loss: 0.0422 - accuracy: 0.9915 - val_loss: 0.4191 - val_accuracy: 0.8771\n",
      "Epoch 15/20\n",
      "30/30 [==============================] - 0s 16ms/step - loss: 0.0366 - accuracy: 0.9927 - val_loss: 0.5009 - val_accuracy: 0.8627\n",
      "Epoch 16/20\n",
      "30/30 [==============================] - 0s 14ms/step - loss: 0.0306 - accuracy: 0.9943 - val_loss: 0.4757 - val_accuracy: 0.8716\n",
      "Epoch 17/20\n",
      "30/30 [==============================] - 0s 15ms/step - loss: 0.0270 - accuracy: 0.9953 - val_loss: 0.4851 - val_accuracy: 0.8712\n",
      "Epoch 18/20\n",
      "30/30 [==============================] - 0s 16ms/step - loss: 0.0209 - accuracy: 0.9973 - val_loss: 0.5044 - val_accuracy: 0.8713\n",
      "Epoch 19/20\n",
      "30/30 [==============================] - 1s 17ms/step - loss: 0.0182 - accuracy: 0.9973 - val_loss: 0.5274 - val_accuracy: 0.8719\n",
      "Epoch 20/20\n",
      "30/30 [==============================] - 0s 16ms/step - loss: 0.0162 - accuracy: 0.9979 - val_loss: 0.5510 - val_accuracy: 0.8690\n"
     ]
    }
   ],
   "source": [
    "from tensorflow.keras.datasets import imdb\n",
    "(train_data, train_labels), _ = imdb.load_data(num_words=10000)\n",
    "\n",
    "def vectorize_sequences(sequences, dimension=10000):\n",
    "    results = np.zeros((len(sequences), dimension))\n",
    "    for i, sequence in enumerate(sequences):\n",
    "        results[i, sequence] = 1.\n",
    "    return results\n",
    "train_data = vectorize_sequences(train_data)\n",
    "\n",
    "model = keras.Sequential([\n",
    "    layers.Dense(16, activation=\"relu\"),\n",
    "    layers.Dense(16, activation=\"relu\"),\n",
    "    layers.Dense(1, activation=\"sigmoid\")\n",
    "])\n",
    "model.compile(optimizer=\"rmsprop\",\n",
    "              loss=\"binary_crossentropy\",\n",
    "              metrics=[\"accuracy\"])\n",
    "history_original = model.fit(train_data, train_labels,\n",
    "                             epochs=20, batch_size=512, validation_split=0.4)"
   ]
  },
  {
   "cell_type": "markdown",
   "metadata": {
    "colab_type": "text"
   },
   "source": [
    "**Version of the model with lower capacity**"
   ]
  },
  {
   "cell_type": "code",
   "execution_count": 11,
   "metadata": {
    "colab_type": "code"
   },
   "outputs": [
    {
     "name": "stdout",
     "output_type": "stream",
     "text": [
      "Epoch 1/20\n",
      "30/30 [==============================] - 2s 34ms/step - loss: 0.6169 - accuracy: 0.6533 - val_loss: 0.5570 - val_accuracy: 0.7344\n",
      "Epoch 2/20\n",
      "30/30 [==============================] - 0s 15ms/step - loss: 0.5198 - accuracy: 0.7984 - val_loss: 0.5133 - val_accuracy: 0.7722\n",
      "Epoch 3/20\n",
      "30/30 [==============================] - 0s 14ms/step - loss: 0.4712 - accuracy: 0.8570 - val_loss: 0.4834 - val_accuracy: 0.8614\n",
      "Epoch 4/20\n",
      "30/30 [==============================] - 0s 14ms/step - loss: 0.4372 - accuracy: 0.8959 - val_loss: 0.4922 - val_accuracy: 0.7987\n",
      "Epoch 5/20\n",
      "30/30 [==============================] - 0s 14ms/step - loss: 0.4119 - accuracy: 0.9155 - val_loss: 0.4587 - val_accuracy: 0.8575\n",
      "Epoch 6/20\n",
      "30/30 [==============================] - 0s 15ms/step - loss: 0.3900 - accuracy: 0.9332 - val_loss: 0.4573 - val_accuracy: 0.8572\n",
      "Epoch 7/20\n",
      "30/30 [==============================] - 1s 17ms/step - loss: 0.3718 - accuracy: 0.9462 - val_loss: 0.4421 - val_accuracy: 0.8816\n",
      "Epoch 8/20\n",
      "30/30 [==============================] - 0s 16ms/step - loss: 0.3562 - accuracy: 0.9537 - val_loss: 0.4510 - val_accuracy: 0.8695\n",
      "Epoch 9/20\n",
      "30/30 [==============================] - 0s 15ms/step - loss: 0.3411 - accuracy: 0.9633 - val_loss: 0.4675 - val_accuracy: 0.8558\n",
      "Epoch 10/20\n",
      "30/30 [==============================] - 0s 14ms/step - loss: 0.3274 - accuracy: 0.9694 - val_loss: 0.4502 - val_accuracy: 0.8729\n",
      "Epoch 11/20\n",
      "30/30 [==============================] - 0s 14ms/step - loss: 0.3161 - accuracy: 0.9727 - val_loss: 0.4639 - val_accuracy: 0.8652\n",
      "Epoch 12/20\n",
      "30/30 [==============================] - 0s 14ms/step - loss: 0.3037 - accuracy: 0.9775 - val_loss: 0.4637 - val_accuracy: 0.8680\n",
      "Epoch 13/20\n",
      "30/30 [==============================] - 0s 14ms/step - loss: 0.2931 - accuracy: 0.9811 - val_loss: 0.4908 - val_accuracy: 0.8584\n",
      "Epoch 14/20\n",
      "30/30 [==============================] - 0s 15ms/step - loss: 0.2830 - accuracy: 0.9840 - val_loss: 0.4543 - val_accuracy: 0.8734\n",
      "Epoch 15/20\n",
      "30/30 [==============================] - 0s 14ms/step - loss: 0.2745 - accuracy: 0.9854 - val_loss: 0.5281 - val_accuracy: 0.8525\n",
      "Epoch 16/20\n",
      "30/30 [==============================] - 0s 15ms/step - loss: 0.2657 - accuracy: 0.9866 - val_loss: 0.5119 - val_accuracy: 0.8600\n",
      "Epoch 17/20\n",
      "30/30 [==============================] - 0s 14ms/step - loss: 0.2580 - accuracy: 0.9873 - val_loss: 0.4703 - val_accuracy: 0.8739\n",
      "Epoch 18/20\n",
      "30/30 [==============================] - 0s 14ms/step - loss: 0.2498 - accuracy: 0.9895 - val_loss: 0.5272 - val_accuracy: 0.8614\n",
      "Epoch 19/20\n",
      "30/30 [==============================] - 0s 14ms/step - loss: 0.2428 - accuracy: 0.9899 - val_loss: 0.5254 - val_accuracy: 0.8622\n",
      "Epoch 20/20\n",
      "30/30 [==============================] - 0s 13ms/step - loss: 0.2360 - accuracy: 0.9904 - val_loss: 0.5629 - val_accuracy: 0.8575\n"
     ]
    }
   ],
   "source": [
    "model = keras.Sequential([\n",
    "    layers.Dense(4, activation=\"relu\"),\n",
    "    layers.Dense(4, activation=\"relu\"),\n",
    "    layers.Dense(1, activation=\"sigmoid\")\n",
    "])\n",
    "model.compile(optimizer=\"rmsprop\",\n",
    "              loss=\"binary_crossentropy\",\n",
    "              metrics=[\"accuracy\"])\n",
    "history_smaller_model = model.fit(\n",
    "    train_data, train_labels,\n",
    "    epochs=20, batch_size=512, validation_split=0.4)"
   ]
  },
  {
   "cell_type": "markdown",
   "metadata": {
    "colab_type": "text"
   },
   "source": [
    "**Version of the model with higher capacity**"
   ]
  },
  {
   "cell_type": "code",
   "execution_count": 12,
   "metadata": {
    "colab_type": "code"
   },
   "outputs": [
    {
     "name": "stdout",
     "output_type": "stream",
     "text": [
      "Epoch 1/20\n",
      "30/30 [==============================] - 4s 125ms/step - loss: 0.5726 - accuracy: 0.7139 - val_loss: 0.3813 - val_accuracy: 0.8542\n",
      "Epoch 2/20\n",
      "30/30 [==============================] - 3s 116ms/step - loss: 0.3315 - accuracy: 0.8689 - val_loss: 0.2893 - val_accuracy: 0.8825\n",
      "Epoch 3/20\n",
      "30/30 [==============================] - 3s 117ms/step - loss: 0.2331 - accuracy: 0.9096 - val_loss: 0.2695 - val_accuracy: 0.8888\n",
      "Epoch 4/20\n",
      "30/30 [==============================] - 3s 113ms/step - loss: 0.1961 - accuracy: 0.9263 - val_loss: 0.3036 - val_accuracy: 0.8734\n",
      "Epoch 5/20\n",
      "30/30 [==============================] - 3s 111ms/step - loss: 0.1414 - accuracy: 0.9497 - val_loss: 0.3188 - val_accuracy: 0.8767\n",
      "Epoch 6/20\n",
      "30/30 [==============================] - 3s 111ms/step - loss: 0.1023 - accuracy: 0.9648 - val_loss: 0.4960 - val_accuracy: 0.8257\n",
      "Epoch 7/20\n",
      "30/30 [==============================] - 3s 110ms/step - loss: 0.0868 - accuracy: 0.9716 - val_loss: 0.3470 - val_accuracy: 0.8828\n",
      "Epoch 8/20\n",
      "30/30 [==============================] - 3s 110ms/step - loss: 0.0864 - accuracy: 0.9751 - val_loss: 0.3288 - val_accuracy: 0.8805\n",
      "Epoch 9/20\n",
      "30/30 [==============================] - 3s 107ms/step - loss: 0.0162 - accuracy: 0.9978 - val_loss: 0.4272 - val_accuracy: 0.8799\n",
      "Epoch 10/20\n",
      "30/30 [==============================] - 3s 106ms/step - loss: 0.0752 - accuracy: 0.9811 - val_loss: 0.3952 - val_accuracy: 0.8821\n",
      "Epoch 11/20\n",
      "30/30 [==============================] - 3s 107ms/step - loss: 0.0062 - accuracy: 0.9995 - val_loss: 0.5018 - val_accuracy: 0.8799\n",
      "Epoch 12/20\n",
      "30/30 [==============================] - 3s 112ms/step - loss: 0.1017 - accuracy: 0.9785 - val_loss: 0.3914 - val_accuracy: 0.8791\n",
      "Epoch 13/20\n",
      "30/30 [==============================] - 3s 114ms/step - loss: 0.0054 - accuracy: 0.9999 - val_loss: 0.4732 - val_accuracy: 0.8808\n",
      "Epoch 14/20\n",
      "30/30 [==============================] - 3s 108ms/step - loss: 0.0020 - accuracy: 0.9999 - val_loss: 0.5524 - val_accuracy: 0.8801\n",
      "Epoch 15/20\n",
      "30/30 [==============================] - 3s 105ms/step - loss: 0.0011 - accuracy: 1.0000 - val_loss: 0.6172 - val_accuracy: 0.8789\n",
      "Epoch 16/20\n",
      "30/30 [==============================] - 3s 117ms/step - loss: 0.0996 - accuracy: 0.9823 - val_loss: 0.4766 - val_accuracy: 0.8810\n",
      "Epoch 17/20\n",
      "30/30 [==============================] - 3s 116ms/step - loss: 0.0019 - accuracy: 1.0000 - val_loss: 0.5302 - val_accuracy: 0.8806\n",
      "Epoch 18/20\n",
      "30/30 [==============================] - 3s 114ms/step - loss: 8.6258e-04 - accuracy: 1.0000 - val_loss: 0.5989 - val_accuracy: 0.8814\n",
      "Epoch 19/20\n",
      "30/30 [==============================] - 4s 118ms/step - loss: 4.9743e-04 - accuracy: 1.0000 - val_loss: 0.6497 - val_accuracy: 0.8818\n",
      "Epoch 20/20\n",
      "30/30 [==============================] - 3s 111ms/step - loss: 3.3699e-04 - accuracy: 1.0000 - val_loss: 0.6830 - val_accuracy: 0.8818\n"
     ]
    }
   ],
   "source": [
    "model = keras.Sequential([\n",
    "    layers.Dense(512, activation=\"relu\"),\n",
    "    layers.Dense(512, activation=\"relu\"),\n",
    "    layers.Dense(1, activation=\"sigmoid\")\n",
    "])\n",
    "model.compile(optimizer=\"rmsprop\",\n",
    "              loss=\"binary_crossentropy\",\n",
    "              metrics=[\"accuracy\"])\n",
    "history_larger_model = model.fit(\n",
    "    train_data, train_labels,\n",
    "    epochs=20, batch_size=512, validation_split=0.4)"
   ]
  },
  {
   "cell_type": "markdown",
   "metadata": {
    "colab_type": "text"
   },
   "source": [
    "#### Adding weight regularization"
   ]
  },
  {
   "cell_type": "markdown",
   "metadata": {
    "colab_type": "text"
   },
   "source": [
    "**Adding L2 weight regularization to the model**"
   ]
  },
  {
   "cell_type": "code",
   "execution_count": 13,
   "metadata": {
    "colab_type": "code"
   },
   "outputs": [
    {
     "name": "stdout",
     "output_type": "stream",
     "text": [
      "Epoch 1/20\n",
      "30/30 [==============================] - 2s 32ms/step - loss: 0.6108 - accuracy: 0.7624 - val_loss: 0.4655 - val_accuracy: 0.8722\n",
      "Epoch 2/20\n",
      "30/30 [==============================] - 1s 18ms/step - loss: 0.3995 - accuracy: 0.8974 - val_loss: 0.4381 - val_accuracy: 0.8492\n",
      "Epoch 3/20\n",
      "30/30 [==============================] - 0s 16ms/step - loss: 0.3289 - accuracy: 0.9176 - val_loss: 0.3599 - val_accuracy: 0.8937\n",
      "Epoch 4/20\n",
      "30/30 [==============================] - 1s 18ms/step - loss: 0.2911 - accuracy: 0.9279 - val_loss: 0.3521 - val_accuracy: 0.8923\n",
      "Epoch 5/20\n",
      "30/30 [==============================] - 1s 19ms/step - loss: 0.2693 - accuracy: 0.9361 - val_loss: 0.3551 - val_accuracy: 0.8885\n",
      "Epoch 6/20\n",
      "30/30 [==============================] - 1s 19ms/step - loss: 0.2526 - accuracy: 0.9408 - val_loss: 0.3736 - val_accuracy: 0.8808\n",
      "Epoch 7/20\n",
      "30/30 [==============================] - 1s 17ms/step - loss: 0.2406 - accuracy: 0.9454 - val_loss: 0.3665 - val_accuracy: 0.8845\n",
      "Epoch 8/20\n",
      "30/30 [==============================] - 1s 17ms/step - loss: 0.2293 - accuracy: 0.9517 - val_loss: 0.3646 - val_accuracy: 0.8838\n",
      "Epoch 9/20\n",
      "30/30 [==============================] - 1s 19ms/step - loss: 0.2271 - accuracy: 0.9513 - val_loss: 0.3690 - val_accuracy: 0.8838\n",
      "Epoch 10/20\n",
      "30/30 [==============================] - 1s 18ms/step - loss: 0.2172 - accuracy: 0.9554 - val_loss: 0.3745 - val_accuracy: 0.8831\n",
      "Epoch 11/20\n",
      "30/30 [==============================] - 0s 17ms/step - loss: 0.2170 - accuracy: 0.9551 - val_loss: 0.4166 - val_accuracy: 0.8721\n",
      "Epoch 12/20\n",
      "30/30 [==============================] - 1s 18ms/step - loss: 0.2079 - accuracy: 0.9589 - val_loss: 0.3887 - val_accuracy: 0.8798\n",
      "Epoch 13/20\n",
      "30/30 [==============================] - 1s 18ms/step - loss: 0.2098 - accuracy: 0.9585 - val_loss: 0.3949 - val_accuracy: 0.8785\n",
      "Epoch 14/20\n",
      "30/30 [==============================] - 1s 17ms/step - loss: 0.2005 - accuracy: 0.9616 - val_loss: 0.4230 - val_accuracy: 0.8723\n",
      "Epoch 15/20\n",
      "30/30 [==============================] - 1s 18ms/step - loss: 0.1990 - accuracy: 0.9617 - val_loss: 0.3985 - val_accuracy: 0.8772\n",
      "Epoch 16/20\n",
      "30/30 [==============================] - 1s 17ms/step - loss: 0.1970 - accuracy: 0.9617 - val_loss: 0.4260 - val_accuracy: 0.8732\n",
      "Epoch 17/20\n",
      "30/30 [==============================] - 1s 18ms/step - loss: 0.1955 - accuracy: 0.9640 - val_loss: 0.4064 - val_accuracy: 0.8784\n",
      "Epoch 18/20\n",
      "30/30 [==============================] - 0s 17ms/step - loss: 0.1891 - accuracy: 0.9656 - val_loss: 0.4097 - val_accuracy: 0.8768\n",
      "Epoch 19/20\n",
      "30/30 [==============================] - 1s 18ms/step - loss: 0.1949 - accuracy: 0.9609 - val_loss: 0.4180 - val_accuracy: 0.8753\n",
      "Epoch 20/20\n",
      "30/30 [==============================] - 0s 16ms/step - loss: 0.1853 - accuracy: 0.9681 - val_loss: 0.4209 - val_accuracy: 0.8752\n"
     ]
    }
   ],
   "source": [
    "from tensorflow.keras import regularizers\n",
    "model = keras.Sequential([\n",
    "    layers.Dense(16,\n",
    "                 kernel_regularizer=regularizers.l2(0.002),\n",
    "                 activation=\"relu\"),\n",
    "    layers.Dense(16,\n",
    "                 kernel_regularizer=regularizers.l2(0.002),\n",
    "                 activation=\"relu\"),\n",
    "    layers.Dense(1, activation=\"sigmoid\")\n",
    "])\n",
    "model.compile(optimizer=\"rmsprop\",\n",
    "              loss=\"binary_crossentropy\",\n",
    "              metrics=[\"accuracy\"])\n",
    "history_l2_reg = model.fit(\n",
    "    train_data, train_labels,\n",
    "    epochs=20, batch_size=512, validation_split=0.4)"
   ]
  },
  {
   "cell_type": "markdown",
   "metadata": {
    "colab_type": "text"
   },
   "source": [
    "**Different weight regularizers available in Keras**"
   ]
  },
  {
   "cell_type": "code",
   "execution_count": 14,
   "metadata": {
    "colab_type": "code"
   },
   "outputs": [
    {
     "data": {
      "text/plain": [
       "<keras.regularizers.L1L2 at 0x29ec4cc7bb0>"
      ]
     },
     "execution_count": 14,
     "metadata": {},
     "output_type": "execute_result"
    }
   ],
   "source": [
    "from tensorflow.keras import regularizers\n",
    "regularizers.l1(0.001)\n",
    "regularizers.l1_l2(l1=0.001, l2=0.001)"
   ]
  },
  {
   "cell_type": "markdown",
   "metadata": {
    "colab_type": "text"
   },
   "source": [
    "#### Adding dropout"
   ]
  },
  {
   "cell_type": "markdown",
   "metadata": {
    "colab_type": "text"
   },
   "source": [
    "**Adding dropout to the IMDB model**"
   ]
  },
  {
   "cell_type": "code",
   "execution_count": 15,
   "metadata": {
    "colab_type": "code"
   },
   "outputs": [
    {
     "name": "stdout",
     "output_type": "stream",
     "text": [
      "Epoch 1/20\n",
      "30/30 [==============================] - 2s 30ms/step - loss: 0.6532 - accuracy: 0.6197 - val_loss: 0.5554 - val_accuracy: 0.8385\n",
      "Epoch 2/20\n",
      "30/30 [==============================] - 1s 19ms/step - loss: 0.5328 - accuracy: 0.7589 - val_loss: 0.4342 - val_accuracy: 0.8607\n",
      "Epoch 3/20\n",
      "30/30 [==============================] - 1s 20ms/step - loss: 0.4413 - accuracy: 0.8217 - val_loss: 0.3589 - val_accuracy: 0.8788\n",
      "Epoch 4/20\n",
      "30/30 [==============================] - 1s 20ms/step - loss: 0.3808 - accuracy: 0.8589 - val_loss: 0.3218 - val_accuracy: 0.8832\n",
      "Epoch 5/20\n",
      "30/30 [==============================] - 0s 16ms/step - loss: 0.3295 - accuracy: 0.8818 - val_loss: 0.2890 - val_accuracy: 0.8906\n",
      "Epoch 6/20\n",
      "30/30 [==============================] - 0s 16ms/step - loss: 0.2856 - accuracy: 0.9037 - val_loss: 0.2792 - val_accuracy: 0.8915\n",
      "Epoch 7/20\n",
      "30/30 [==============================] - 0s 17ms/step - loss: 0.2562 - accuracy: 0.9187 - val_loss: 0.2783 - val_accuracy: 0.8914\n",
      "Epoch 8/20\n",
      "30/30 [==============================] - 0s 17ms/step - loss: 0.2318 - accuracy: 0.9261 - val_loss: 0.2750 - val_accuracy: 0.8928\n",
      "Epoch 9/20\n",
      "30/30 [==============================] - 0s 17ms/step - loss: 0.2123 - accuracy: 0.9349 - val_loss: 0.2848 - val_accuracy: 0.8921\n",
      "Epoch 10/20\n",
      "30/30 [==============================] - 1s 20ms/step - loss: 0.1879 - accuracy: 0.9425 - val_loss: 0.3000 - val_accuracy: 0.8908\n",
      "Epoch 11/20\n",
      "30/30 [==============================] - 1s 18ms/step - loss: 0.1706 - accuracy: 0.9494 - val_loss: 0.3093 - val_accuracy: 0.8898\n",
      "Epoch 12/20\n",
      "30/30 [==============================] - 1s 20ms/step - loss: 0.1575 - accuracy: 0.9545 - val_loss: 0.3399 - val_accuracy: 0.8854\n",
      "Epoch 13/20\n",
      "30/30 [==============================] - 1s 19ms/step - loss: 0.1425 - accuracy: 0.9590 - val_loss: 0.3428 - val_accuracy: 0.8881\n",
      "Epoch 14/20\n",
      "30/30 [==============================] - 1s 20ms/step - loss: 0.1262 - accuracy: 0.9612 - val_loss: 0.3691 - val_accuracy: 0.8880\n",
      "Epoch 15/20\n",
      "30/30 [==============================] - 1s 19ms/step - loss: 0.1167 - accuracy: 0.9670 - val_loss: 0.4107 - val_accuracy: 0.8880\n",
      "Epoch 16/20\n",
      "30/30 [==============================] - 1s 17ms/step - loss: 0.1110 - accuracy: 0.9668 - val_loss: 0.4074 - val_accuracy: 0.8867\n",
      "Epoch 17/20\n",
      "30/30 [==============================] - 1s 17ms/step - loss: 0.1017 - accuracy: 0.9703 - val_loss: 0.4306 - val_accuracy: 0.8857\n",
      "Epoch 18/20\n",
      "30/30 [==============================] - 1s 24ms/step - loss: 0.0979 - accuracy: 0.9695 - val_loss: 0.4494 - val_accuracy: 0.8859\n",
      "Epoch 19/20\n",
      "30/30 [==============================] - 1s 33ms/step - loss: 0.0903 - accuracy: 0.9724 - val_loss: 0.5088 - val_accuracy: 0.8850\n",
      "Epoch 20/20\n",
      "30/30 [==============================] - 1s 25ms/step - loss: 0.0853 - accuracy: 0.9748 - val_loss: 0.4962 - val_accuracy: 0.8858\n"
     ]
    }
   ],
   "source": [
    "model = keras.Sequential([\n",
    "    layers.Dense(16, activation=\"relu\"),\n",
    "    layers.Dropout(0.5),\n",
    "    layers.Dense(16, activation=\"relu\"),\n",
    "    layers.Dropout(0.5),\n",
    "    layers.Dense(1, activation=\"sigmoid\")\n",
    "])\n",
    "model.compile(optimizer=\"rmsprop\",\n",
    "              loss=\"binary_crossentropy\",\n",
    "              metrics=[\"accuracy\"])\n",
    "history_dropout = model.fit(\n",
    "    train_data, train_labels,\n",
    "    epochs=20, batch_size=512, validation_split=0.4)"
   ]
  },
  {
   "cell_type": "markdown",
   "metadata": {
    "colab_type": "text"
   },
   "source": [
    "## Summary"
   ]
  }
 ],
 "metadata": {
  "colab": {
   "collapsed_sections": [],
   "name": "chapter05_fundamentals-of-ml.i",
   "private_outputs": false,
   "provenance": [],
   "toc_visible": true
  },
  "kernelspec": {
   "display_name": "Python 3",
   "language": "python",
   "name": "python3"
  },
  "language_info": {
   "codemirror_mode": {
    "name": "ipython",
    "version": 3
   },
   "file_extension": ".py",
   "mimetype": "text/x-python",
   "name": "python",
   "nbconvert_exporter": "python",
   "pygments_lexer": "ipython3",
   "version": "3.9.15"
  },
  "vscode": {
   "interpreter": {
    "hash": "c1a4f09e9b128b35def6df724a69ee0e8c626d8a51d7987c9a1415caa06c9ece"
   }
  }
 },
 "nbformat": 4,
 "nbformat_minor": 0
}
